{
 "cells": [
  {
   "cell_type": "code",
   "execution_count": 4,
   "id": "31318e8c-146f-4f2e-bbeb-affe7c6c4055",
   "metadata": {},
   "outputs": [
    {
     "name": "stdout",
     "output_type": "stream",
     "text": [
      "Archive:  drone_paramo.zip\n",
      "error [drone_paramo.zip]:  missing 64 bytes in zipfile\n",
      "  (attempting to process anyway)\n",
      "error: invalid zip file with overlapped components (possible zip bomb)\n"
     ]
    }
   ],
   "source": [
    "!unzip drone_paramo.zip -d images/"
   ]
  },
  {
   "cell_type": "code",
   "execution_count": null,
   "id": "2143d89e-844e-4dde-9495-f694014423e4",
   "metadata": {},
   "outputs": [],
   "source": [
    "!unzip paramo_label_final -d labels/"
   ]
  },
  {
   "cell_type": "code",
   "execution_count": null,
   "id": "acf3d516-eb1f-476b-ad7a-74f412123b43",
   "metadata": {},
   "outputs": [],
   "source": [
    "!cp -r Output ."
   ]
  },
  {
   "cell_type": "code",
   "execution_count": 1,
   "id": "bc54f697-64a0-4a1c-a466-1a7fdbfc04e8",
   "metadata": {},
   "outputs": [
    {
     "name": "stdout",
     "output_type": "stream",
     "text": [
      "/root/autodl-tmp\n"
     ]
    }
   ],
   "source": [
    "!pwd"
   ]
  },
  {
   "cell_type": "code",
   "execution_count": null,
   "id": "7bddc4b0-f0a0-4464-994e-48b60314ea79",
   "metadata": {},
   "outputs": [
    {
     "name": "stdout",
     "output_type": "stream",
     "text": [
      "Looking in indexes: https://repo.huaweicloud.com/repository/pypi/simple\n",
      "Collecting git+https://github.com/davej23/image-segmentation-keras.git\n",
      "  Cloning https://github.com/davej23/image-segmentation-keras.git to /tmp/pip-req-build-0fb98_j2\n",
      "  Running command git clone -q https://github.com/davej23/image-segmentation-keras.git /tmp/pip-req-build-0fb98_j2\n"
     ]
    }
   ],
   "source": [
    "import os, os.path\n",
    "\n",
    "!pip install pyunpack patool rarfile segmentation-models git+https://github.com/davej23/image-segmentation-keras.git rioxarray geopandas fiona pyshp keras_unet_collection\n",
    "\n",
    "\n",
    "from matplotlib import pyplot as plt\n",
    "import rasterio\n",
    "from rasterio.windows import get_data_window\n",
    "from rasterio.windows import Window\n",
    "import rasterio.mask\n",
    "import numpy as np\n",
    "import rioxarray as rxr\n",
    "from skimage.io import imread\n",
    "\n",
    "import tensorflow as tf\n",
    "\n",
    "from osgeo import gdal"
   ]
  },
  {
   "cell_type": "code",
   "execution_count": null,
   "id": "1b042ff3-3081-49dc-9773-d6390faf5527",
   "metadata": {},
   "outputs": [],
   "source": []
  }
 ],
 "metadata": {
  "kernelspec": {
   "display_name": "Python 3 (ipykernel)",
   "language": "python",
   "name": "python3"
  },
  "language_info": {
   "codemirror_mode": {
    "name": "ipython",
    "version": 3
   },
   "file_extension": ".py",
   "mimetype": "text/x-python",
   "name": "python",
   "nbconvert_exporter": "python",
   "pygments_lexer": "ipython3",
   "version": "3.8.10"
  }
 },
 "nbformat": 4,
 "nbformat_minor": 5
}
